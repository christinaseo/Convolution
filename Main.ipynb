{
 "cells": [
  {
   "cell_type": "markdown",
   "metadata": {},
   "source": [
    "# Simple 2D Convolution using Images"
   ]
  },
  {
   "cell_type": "code",
   "execution_count": 115,
   "metadata": {},
   "outputs": [],
   "source": [
    "import PIL\n",
    "from PIL import Image\n",
    "import numpy as np\n",
    "\n",
    "alpha = 8\n",
    "filterSize = 3"
   ]
  },
  {
   "cell_type": "code",
   "execution_count": 116,
   "metadata": {},
   "outputs": [],
   "source": [
    "#import the photo\n",
    "input = Image.open('input.jpeg')"
   ]
  },
  {
   "cell_type": "code",
   "execution_count": 117,
   "metadata": {},
   "outputs": [],
   "source": [
    "#turn the photo into a pixel matrix\n",
    "pixels = np.array(input)"
   ]
  },
  {
   "cell_type": "code",
   "execution_count": 118,
   "metadata": {},
   "outputs": [],
   "source": [
    "#turn the image matrix into greyscale\n",
    "\n",
    "cSize = (np.shape(pixels)[0])\n",
    "#print (np.shape(pixels)[1])\n",
    "\n",
    "greyscale = np.zeros((cSize,cSize), dtype = float)\n",
    "for x in range(0, np.shape(pixels)[0]):\n",
    "    for y in range(0, np.shape(pixels)[1]):\n",
    "        greyscale[x,y] = pixels[x,y].sum() / 3\n",
    "        \n",
    "#print(greyscale)"
   ]
  },
  {
   "cell_type": "code",
   "execution_count": 119,
   "metadata": {},
   "outputs": [],
   "source": [
    "#initialize the filter\n",
    "filter = np.full((filterSize,filterSize),-1, dtype = float)\n",
    "filter[1][1] = alpha\n",
    "#print(filter)"
   ]
  },
  {
   "cell_type": "code",
   "execution_count": 120,
   "metadata": {},
   "outputs": [],
   "source": [
    "#Pad the greyscale matrix with 0's\n",
    "pSize = cSize + 2*(filterSize - 1)\n",
    "padded = np.zeros((pSize,pSize), dtype = float)\n",
    "#print(np.size(padded[0]))\n",
    "\n",
    "x = filterSize - 1\n",
    "y = filterSize - 1\n",
    "padded[x:x+greyscale.shape[0], y:y+greyscale.shape[1]] = greyscale\n",
    "#print(padded)"
   ]
  },
  {
   "cell_type": "code",
   "execution_count": 121,
   "metadata": {},
   "outputs": [
    {
     "name": "stdout",
     "output_type": "stream",
     "text": [
      "302\n",
      "302\n",
      "0\n",
      "(91204,)\n",
      "(302, 302)\n",
      "[[ -15.          -30.66666667  -48.         ... -125.33333333\n",
      "   -84.          -42.        ]\n",
      " [ -32.           69.66666667   40.         ...  127.33333333\n",
      "   210.          -84.        ]\n",
      " [ -50.           52.            3.         ...    2.\n",
      "   126.         -126.        ]\n",
      " ...\n",
      " [-249.33333333  152.           17.         ...   75.\n",
      "   303.         -274.        ]\n",
      " [-160.33333333  436.           80.33333333 ...  234.\n",
      "   468.33333333 -183.33333333]\n",
      " [ -84.33333333 -153.66666667 -265.         ... -228.\n",
      "  -168.33333333  -90.66666667]]\n"
     ]
    }
   ],
   "source": [
    "#output = np.ndarray([])\n",
    "output = []\n",
    "#flip the filter\n",
    "filter = np.flip(filter,0)\n",
    "filter = np.flip(filter,1)\n",
    "\n",
    "#iterate through the matrix    \n",
    "i=0\n",
    "j=0\n",
    "for x in range(0, (pSize-filterSize+1)*(pSize-filterSize+1)):\n",
    "    if (i == pSize - filterSize+1)or (i == pSize-filterSize and j == pSize - filterSize+1):\n",
    "        break\n",
    "    subset = padded[i:i+filterSize, j:j+filterSize]\n",
    "    #output = np.append(output,[np.sum(np.multiply(subset,filter))])\n",
    "    output.append(np.sum(np.multiply(subset,filter)))\n",
    "    #print(output1)\n",
    "    #print(np.sum(np.multiply(subset,filter)))\n",
    "    if (j == pSize - (filterSize)):\n",
    "        i += 1\n",
    "        j = 0\n",
    "    else: \n",
    "        j+=1\n",
    "\n",
    "#reshape the output array\n",
    "nOutput = np.reshape(output,(302,302))\n",
    "\n",
    "#Display the image\n",
    "im = Image.fromarray(nOutput)\n",
    "im.show()\n",
    "        "
   ]
  },
  {
   "cell_type": "code",
   "execution_count": null,
   "metadata": {},
   "outputs": [],
   "source": []
  }
 ],
 "metadata": {
  "kernelspec": {
   "display_name": "Python 3",
   "language": "python",
   "name": "python3"
  },
  "language_info": {
   "codemirror_mode": {
    "name": "ipython",
    "version": 3
   },
   "file_extension": ".py",
   "mimetype": "text/x-python",
   "name": "python",
   "nbconvert_exporter": "python",
   "pygments_lexer": "ipython3",
   "version": "3.6.5"
  }
 },
 "nbformat": 4,
 "nbformat_minor": 2
}
