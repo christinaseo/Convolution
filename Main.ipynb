{
 "cells": [
  {
   "cell_type": "markdown",
   "metadata": {},
   "source": [
    "# Simple 2D Convolution using Images"
   ]
  },
  {
   "cell_type": "code",
   "execution_count": 31,
   "metadata": {},
   "outputs": [],
   "source": [
    "import PIL\n",
    "from PIL import Image\n",
    "import numpy as np\n",
    "\n",
    "alpha = 5\n",
    "filterSize = 3"
   ]
  },
  {
   "cell_type": "code",
   "execution_count": 32,
   "metadata": {},
   "outputs": [],
   "source": [
    "#import the photo\n",
    "input = Image.open('input.jpeg')"
   ]
  },
  {
   "cell_type": "code",
   "execution_count": 33,
   "metadata": {},
   "outputs": [],
   "source": [
    "#turn the photo into a pixel matrix\n",
    "pixels = np.array(input)"
   ]
  },
  {
   "cell_type": "code",
   "execution_count": 34,
   "metadata": {},
   "outputs": [],
   "source": [
    "#turn the image matrix into greyscale\n",
    "\n",
    "cSize = (np.shape(pixels)[0])\n",
    "#print (np.shape(pixels)[1])\n",
    "\n",
    "greyscale = np.zeros((cSize,cSize), dtype = float)\n",
    "for x in range(0, np.shape(pixels)[0]):\n",
    "    for y in range(0, np.shape(pixels)[1]):\n",
    "        greyscale[x,y] = pixels[x,y].sum() / 3\n",
    "        \n",
    "#print(greyscale)"
   ]
  },
  {
   "cell_type": "code",
   "execution_count": 35,
   "metadata": {},
   "outputs": [],
   "source": [
    "#initialize the filter\n",
    "filter = np.zeros((filterSize,filterSize), dtype = int)\n",
    "filter[1][1] = alpha"
   ]
  },
  {
   "cell_type": "code",
   "execution_count": 44,
   "metadata": {},
   "outputs": [
    {
     "name": "stdout",
     "output_type": "stream",
     "text": [
      "304\n",
      "[[ 0  0  0 ...  0  0  0]\n",
      " [ 0  0  0 ...  0  0  0]\n",
      " [ 0  0 15 ... 42  0  0]\n",
      " ...\n",
      " [ 0  0 84 ... 90  0  0]\n",
      " [ 0  0  0 ...  0  0  0]\n",
      " [ 0  0  0 ...  0  0  0]]\n"
     ]
    }
   ],
   "source": [
    "#Pad the greyscale matrix with 0's\n",
    "pSize = cSize + 2*(filterSize - 1)\n",
    "padded = np.zeros((pSize,pSize), dtype = int)\n",
    "#print(np.size(padded[0]))\n",
    "\n",
    "x = filterSize - 1\n",
    "y = filterSize - 1\n",
    "padded[x:x+greyscale.shape[0], y:y+greyscale.shape[1]] = greyscale\n",
    "#print(padded)"
   ]
  },
  {
   "cell_type": "code",
   "execution_count": 22,
   "metadata": {},
   "outputs": [],
   "source": [
    "#iterate through the matrix"
   ]
  }
 ],
 "metadata": {
  "kernelspec": {
   "display_name": "Python 3",
   "language": "python",
   "name": "python3"
  },
  "language_info": {
   "codemirror_mode": {
    "name": "ipython",
    "version": 3
   },
   "file_extension": ".py",
   "mimetype": "text/x-python",
   "name": "python",
   "nbconvert_exporter": "python",
   "pygments_lexer": "ipython3",
   "version": "3.6.5"
  }
 },
 "nbformat": 4,
 "nbformat_minor": 2
}
